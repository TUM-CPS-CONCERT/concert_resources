{
 "cells": [
  {
   "cell_type": "markdown",
   "id": "2f36a292-e530-4df3-aab4-61ad1784b08a",
   "metadata": {},
   "source": [
    "# What is this about?\n",
    "\n",
    "This is a demo file to showcase how the CONCERT modules can be visualized using TUM's timor python.\n",
    "\n",
    "If you have any questions, contact:\n",
    "- [Jonathan](jonathan.kuelz@tum.de), or\n",
    "- [Matthias](matthias.mayer@tum.de)"
   ]
  },
  {
   "cell_type": "code",
   "execution_count": 1,
   "id": "85ffe1cc-724c-4117-a131-c008583ca310",
   "metadata": {},
   "outputs": [],
   "source": [
    "# The meshcat visualizer does sometimes not terminate properly. You can kill all local processes with \"meshcat\" in there name by runnning this cell.\n",
    "! pkill -f meshcat"
   ]
  },
  {
   "cell_type": "code",
   "execution_count": 2,
   "id": "1d38dc0d-0dfb-47d0-955e-ae0e18ce22a1",
   "metadata": {},
   "outputs": [],
   "source": [
    "%load_ext autoreload\n",
    "%autoreload 2\n",
    "import json\n",
    "import meshcat\n",
    "import os\n",
    "from pathlib import Path\n",
    "\n",
    "import numpy as np\n",
    "\n",
    "# If you get a file not found error at some point, enter your file locations here\n",
    "concert_folder = Path(os.path.abspath(\"\")).parent\n",
    "jsons = concert_folder.joinpath('json/concert/')"
   ]
  },
  {
   "cell_type": "markdown",
   "id": "f2294536-d8f5-43c4-a7f5-b99a8ebeb6c7",
   "metadata": {},
   "source": [
    "**Timor**? [Timor python](https://gitlab.lrz.de/tum-cps/timor-python) is a modular robot toolbox designed @ TU Munich. At the moment, you need to checkout the branch `dev/new_concert_modules` in order to make the following code work. We recommend local, editeable pip install."
   ]
  },
  {
   "cell_type": "code",
   "execution_count": 3,
   "id": "4d454857-d220-41af-abff-ef2a45c38892",
   "metadata": {},
   "outputs": [],
   "source": [
    "from pinocchio.visualize.meshcat_visualizer import MeshcatVisualizer\n",
    "from timor import AtomicModule, ModuleAssembly, ModulesDB, Transformation"
   ]
  },
  {
   "cell_type": "code",
   "execution_count": 4,
   "id": "20070397-f3ce-4680-b1ba-c3a1e0f7b048",
   "metadata": {},
   "outputs": [],
   "source": [
    "colors = {}  # A little hack because Timor does not support body colors natively\n",
    "modules = set()  # We are gonna parse them one by one\n",
    "for f in jsons.iterdir():\n",
    "    m, c = AtomicModule.from_concert_specification(json.loads(f.open('rb').read()), concert_folder.parent)\n",
    "    modules.add(m)\n",
    "    colors[m.id] = c\n",
    "db = ModulesDB(modules)"
   ]
  },
  {
   "cell_type": "markdown",
   "id": "a27a2a35-37b8-4789-a846-50af9b91f183",
   "metadata": {},
   "source": [
    "## Let's see the modules\n",
    "Use the cell below to visualize modules interactively. This will open an integrated _meshcat_ visualizer. There you can:\n",
    "- Move and pan the camera\n",
    "- Manipulate to scene by opening the dropdown menu on the top right. Especially you can\n",
    "    - Manipulate lighting and appearance\n",
    "    - Show or hide collision (and visual) geometries\n",
    "    - Under \"meshcat\", hide and show the various coordinate systems that timor defines. They indicate connector placement, center of mass, and more...'"
   ]
  },
  {
   "cell_type": "code",
   "execution_count": 5,
   "id": "0c24531a-9c62-41fa-8b4c-632ccceeae66",
   "metadata": {},
   "outputs": [],
   "source": [
    "%%capture\n",
    "viz = MeshcatVisualizer()\n",
    "viz.initViewer()\n",
    "# If you prefer to have the visualizer in a distinct tab, you can can viz.viewer.open()"
   ]
  },
  {
   "cell_type": "code",
   "execution_count": 6,
   "id": "e6cdaf63-dadc-4592-b0f8-ba34427f99d8",
   "metadata": {},
   "outputs": [
    {
     "data": {
      "text/html": [
       "\n",
       "            <div style=\"height: 800px; width: 100%; overflow-x: auto; overflow-y: hidden; resize: both\">\n",
       "            <iframe src=\"http://127.0.0.1:7000/static/\" style=\"width: 100%; height: 100%; border: none\"></iframe>\n",
       "            </div>\n",
       "            "
      ],
      "text/plain": [
       "<IPython.core.display.HTML object>"
      ]
     },
     "execution_count": 6,
     "metadata": {},
     "output_type": "execute_result"
    }
   ],
   "source": [
    "for attribute in ('visuals', 'collisions', 'meshcat'):\n",
    "    viz.viewer.window.send(meshcat.commands.Delete(attribute))\n",
    "id_or_name = '18'  # Enter here\n",
    "if id_or_name in db.by_id:\n",
    "    module = db.by_id[id_or_name]\n",
    "elif id_or_name in db.by_name:\n",
    "    module = db.by_name[id_or_name]\n",
    "else:\n",
    "    raise ValueError(\"Unknown module ID or name {}\".format(id_or_name))\n",
    "\n",
    "module.debug_visualization(viz)\n",
    "viz.viewer.jupyter_cell(height=800)"
   ]
  },
  {
   "cell_type": "markdown",
   "id": "e473160e-b181-4cd3-a94c-4c2370ccf564",
   "metadata": {},
   "source": [
    "# Visualize the CONCERT robot\n",
    "\n",
    "Now, we are going to visualize the robot in a typical arrangement:"
   ]
  },
  {
   "cell_type": "code",
   "execution_count": 7,
   "id": "6e827ada-eb89-435d-94ed-ac3f7987114a",
   "metadata": {},
   "outputs": [],
   "source": [
    "%%capture\n",
    "robot_vis = MeshcatVisualizer()  # We are using a new visualizer so the module above will still be visible\n",
    "robot_vis.initViewer()\n",
    "# If you prefer to have the visualizer in a distinct tab, you can can viz.viewer.open()"
   ]
  },
  {
   "cell_type": "code",
   "execution_count": 13,
   "id": "86b42080-bca5-46b4-9c09-2b4194c7c316",
   "metadata": {},
   "outputs": [
    {
     "name": "stderr",
     "output_type": "stream",
     "text": [
      "[autoreload of timor.Geometry failed: Traceback (most recent call last):\n",
      "  File \"/home/jonathan/anaconda3/envs/timor/lib/python3.10/site-packages/IPython/extensions/autoreload.py\", line 257, in check\n",
      "    superreload(m, reload, self.old_objects)\n",
      "  File \"/home/jonathan/anaconda3/envs/timor/lib/python3.10/site-packages/IPython/extensions/autoreload.py\", line 480, in superreload\n",
      "    update_generic(old_obj, new_obj)\n",
      "  File \"/home/jonathan/anaconda3/envs/timor/lib/python3.10/site-packages/IPython/extensions/autoreload.py\", line 377, in update_generic\n",
      "    update(a, b)\n",
      "  File \"/home/jonathan/anaconda3/envs/timor/lib/python3.10/site-packages/IPython/extensions/autoreload.py\", line 345, in update_class\n",
      "    update_instances(old, new)\n",
      "  File \"/home/jonathan/anaconda3/envs/timor/lib/python3.10/site-packages/IPython/extensions/autoreload.py\", line 303, in update_instances\n",
      "    object.__setattr__(ref, \"__class__\", new)\n",
      "TypeError: can't apply this __setattr__ to HppfclEnumMeta object\n",
      "]\n"
     ]
    },
    {
     "data": {
      "text/plain": [
       "array([-1.70857635e+00,  1.61091441e+00,  2.37536371e+00,  1.51399823e+00,\n",
       "       -2.98419818e+00,  5.17112766e+09, -8.80936045e+09,  6.10427098e+08,\n",
       "       -5.07497528e+09,  1.76965382e+00, -1.05002666e+00, -4.64573028e-01,\n",
       "        2.67435599e+00, -2.14445286e+00])"
      ]
     },
     "execution_count": 13,
     "metadata": {},
     "output_type": "execute_result"
    }
   ],
   "source": [
    "assembly.robot.random_configuration()"
   ]
  },
  {
   "cell_type": "code",
   "execution_count": 16,
   "id": "cbf77399-d5fd-4a6a-8d66-a6809212604e",
   "metadata": {},
   "outputs": [
    {
     "data": {
      "text/html": [
       "\n",
       "            <div style=\"height: 1600px; width: 100%; overflow-x: auto; overflow-y: hidden; resize: both\">\n",
       "            <iframe src=\"http://127.0.0.1:7001/static/\" style=\"width: 100%; height: 100%; border: none\"></iframe>\n",
       "            </div>\n",
       "            "
      ],
      "text/plain": [
       "<IPython.core.display.HTML object>"
      ]
     },
     "execution_count": 16,
     "metadata": {},
     "output_type": "execute_result"
    }
   ],
   "source": [
    "from timor.utilities.visualization import color_visualization\n",
    "modules_used = ('23', '14', '16', '14', '16', '14', '16', '17', '17', '18', '18', '51', '51', '51', '51')\n",
    "# Connections have to be specified precisely, because the CONCERT definition would theoretically allow adding manipulator modules to the wheel mounting flanges\n",
    "connections=(\n",
    "    (0, '23_connector_5', 1, '14_input'),\n",
    "    (1, '14_output', 2, '16_input'),\n",
    "    (2, '16_output', 3, '14_input'),\n",
    "    (3, '14_output', 4, '16_input'),\n",
    "    (4, '16_output', 5, '14_input'),\n",
    "    (5, '14_output', 6, '16_input'),\n",
    "    (0, '23_connector_1', 9, '18_input'),  # front_left\n",
    "    (0, '23_connector_2', 7, '17_input'),  # front_right\n",
    "    (0, '23_connector_3', 8, '17_input'),  # rear_left\n",
    "    (0, '23_connector_4', 10, '18_input'),  # rear_right\n",
    "    (7, '17_output', 11, '51_input'), (8, '17_output', 12, '51_input'), (9, '18_output', 13, '51_input'), (10, '18_output', 14, '51_input'),  # wheels\n",
    ")\n",
    "assembly = ModuleAssembly(db, modules_used, connections, base_connector=(0, '23_connector_base'), base_placement=Transformation.from_translation((0, 0, .58)))\n",
    "assembly.robot.update_configuration(np.array([0,  0,  0,  0, -2.9,  1.17, -1.8,  2.1, -.07497528,  1.7, -1.05, -0.46, 2.6, -2.1]))\n",
    "assembly.robot.visualize(robot_vis)\n",
    "color_visualization(robot_vis, assembly, colors)\n",
    "robot_vis.viewer.jupyter_cell(height=1600)"
   ]
  },
  {
   "cell_type": "markdown",
   "id": "885057cb-edb0-4bcd-864d-8f16de242e2c",
   "metadata": {},
   "source": [
    "Introducing 8 joints for the 4 wheel mounts + wheels is necessary for motion planning.\n",
    "\n",
    "However, for robot optimization within timor, this introduces a level of complexity we don't want to deal with. Therefore, we introduce a simplified base that models the assembled concert robot without wheels, just as a moving and floating base."
   ]
  },
  {
   "cell_type": "code",
   "execution_count": null,
   "id": "9656ee16-cb0c-41a9-b88f-0dd66995197f",
   "metadata": {},
   "outputs": [],
   "source": [
    "%%capture\n",
    "simple_vis = MeshcatVisualizer()  # We are using a new visualizer so the module above will still be visible\n",
    "simple_vis.initViewer()\n",
    "# If you prefer to have the visualizer in a distinct tab, you can can viz.viewer.open()"
   ]
  },
  {
   "cell_type": "code",
   "execution_count": null,
   "id": "5dbdd0e4-1938-415b-af99-e96bf6be84ca",
   "metadata": {},
   "outputs": [],
   "source": [
    "from timor.utilities.visualization import color_visualization\n",
    "modules_used = ('23_planar', '14', '16', '14', '16', '14', '16')\n",
    "connections=(\n",
    "    (0, '23_connector_5', 1, '14_input'),\n",
    "    (1, '14_output', 2, '16_input'),\n",
    "    (2, '16_output', 3, '14_input'),\n",
    "    (3, '14_output', 4, '16_input'),\n",
    "    (4, '16_output', 5, '14_input'),\n",
    "    (5, '14_output', 6, '16_input'),\n",
    ")\n",
    "assembly = ModuleAssembly(db, modules_used, connections, base_connector=(0, '23_connector_base'))\n",
    "color_visualization(simple_vis, assembly, colors)\n",
    "simple_vis.viewer.jupyter_cell(height=800)"
   ]
  },
  {
   "cell_type": "markdown",
   "id": "217555b2-6871-4a96-a261-74c4494af50d",
   "metadata": {},
   "source": [
    "# Let's have fun\n",
    "\n",
    "From here on, you can use Timor and CONCERT modules however you like to. Here's a fun animation as a final demo. Note that Timor does not intend to simulate moving bases, therefore we will just exclude the wheels for now.\n",
    "\n",
    "Quick reminder: This is only a visualization demo. We do not perform collision checking, nor do we make sure that there is any sense behind the trajectories. It's just to showcase that the modules have been fully integrated and can further be used for arbitrary tasks."
   ]
  },
  {
   "cell_type": "code",
   "execution_count": null,
   "id": "6c1dea6c-635a-4ae8-b468-d026d2e984a5",
   "metadata": {},
   "outputs": [],
   "source": [
    "%%capture\n",
    "anim_vis = MeshcatVisualizer()  # We are using a new visualizer so the module above will still be visible\n",
    "anim_vis.initViewer()\n",
    "# If you prefer to have the visualizer in a distinct tab, you can can viz.viewer.open()"
   ]
  },
  {
   "cell_type": "code",
   "execution_count": null,
   "id": "f6734bd1-7dc6-4541-810e-6b4e8a181264",
   "metadata": {},
   "outputs": [],
   "source": [
    "from timor.utilities.visualization import animation\n",
    "from timor.utilities.trajectory import Trajectory\n",
    "random_configurations = np.asarray([assembly.robot.random_configuration() for _ in range(20)])\n",
    "random_configurations[:, :3] = random_configurations[:, :3] / 4  # Limit the base movement a bit for the random animation\n",
    "random_configurations = np.asarray([q for q in random_configurations if not assembly.robot.has_self_collision(q)])  # This will not guarantee a collision-free trajectory, but at least makes it more likely\n",
    "trajectory = Trajectory.from_mstraj(np.vstack(random_configurations), dt=.02, t_acc=.1, qd_max=3.6)\n",
    "color_visualization(anim_vis, assembly, colors)\n",
    "animation(assembly.robot, trajectory.q, .1, anim_vis)\n",
    "anim_vis.viewer.jupyter_cell(height=800)"
   ]
  },
  {
   "cell_type": "code",
   "execution_count": null,
   "id": "0491a3a1-3afe-49ed-9ad0-2bd6756000ba",
   "metadata": {},
   "outputs": [],
   "source": []
  }
 ],
 "metadata": {
  "kernelspec": {
   "display_name": "Python 3 (ipykernel)",
   "language": "python",
   "name": "python3"
  },
  "language_info": {
   "codemirror_mode": {
    "name": "ipython",
    "version": 3
   },
   "file_extension": ".py",
   "mimetype": "text/x-python",
   "name": "python",
   "nbconvert_exporter": "python",
   "pygments_lexer": "ipython3",
   "version": "3.10.6"
  }
 },
 "nbformat": 4,
 "nbformat_minor": 5
}
